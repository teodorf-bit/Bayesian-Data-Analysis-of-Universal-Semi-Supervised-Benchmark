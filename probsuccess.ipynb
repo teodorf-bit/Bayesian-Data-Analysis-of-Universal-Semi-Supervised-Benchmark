{
 "cells": [
  {
   "cell_type": "code",
   "execution_count": 1,
   "id": "2dff7f0e-95f5-4d2f-9dad-08fcb180e898",
   "metadata": {
    "tags": []
   },
   "outputs": [],
   "source": [
    "import os       \n",
    "import glob\n",
    "import pandas as pd\n",
    "import numpy as np"
   ]
  },
  {
   "cell_type": "code",
   "execution_count": 2,
   "id": "f8b5e1e4-998b-4d76-89db-b35e5fbe9440",
   "metadata": {
    "tags": []
   },
   "outputs": [],
   "source": [
    "data = pd.read_csv(\"results/combined_csv.csv\")\n",
    "data2 = pd.DataFrame()"
   ]
  },
  {
   "cell_type": "code",
   "execution_count": 3,
   "id": "e0698441-f88d-400b-94e4-24fee4c7764e",
   "metadata": {
    "tags": []
   },
   "outputs": [],
   "source": [
    "data2[\"error_rate\"] = data[\"error_rate\"]+np.random.normal(0,np.sqrt(3),len(data))\n",
    "data2[\"dataset\"]=data[\"dataset\"]\n",
    "data2[\"algorithm\"]=data[\"algorithm\"]\n",
    "data2[\"seed\"]=data[\"seed\"]\n",
    "data2[\"label\"]=data[\"label\"]\n",
    "data2[\"task\"]=data[\"task\"]"
   ]
  },
  {
   "cell_type": "code",
   "execution_count": 4,
   "id": "bf76ccf2-2a31-4293-ac60-4a24948a4603",
   "metadata": {
    "tags": []
   },
   "outputs": [],
   "source": [
    "data[\"SD\"]=0"
   ]
  },
  {
   "cell_type": "code",
   "execution_count": 5,
   "id": "017b3ce6-d8e2-4eba-8fcc-d0aad74f088f",
   "metadata": {
    "tags": []
   },
   "outputs": [
    {
     "data": {
      "text/plain": [
       "0         34.367794\n",
       "1         61.914624\n",
       "2         24.613283\n",
       "3         65.269884\n",
       "4          3.312854\n",
       "            ...    \n",
       "551175    30.905623\n",
       "551176    23.232250\n",
       "551177    29.936449\n",
       "551178    27.514916\n",
       "551179    32.631560\n",
       "Name: error_rate, Length: 551180, dtype: float64"
      ]
     },
     "execution_count": 5,
     "metadata": {},
     "output_type": "execute_result"
    }
   ],
   "source": [
    "x = data[\"error_rate\"]+np.random.normal(0,np.sqrt(3),len(data))\n",
    "x"
   ]
  },
  {
   "cell_type": "code",
   "execution_count": 6,
   "id": "abc08e94-9018-4ffc-8305-3f343ef0b9f1",
   "metadata": {
    "tags": []
   },
   "outputs": [],
   "source": [
    "data2[\"error_rate\"] = x"
   ]
  },
  {
   "cell_type": "code",
   "execution_count": 7,
   "id": "89a943ff-ba88-4a82-8b95-99d418070fec",
   "metadata": {},
   "outputs": [],
   "source": [
    "data2[\"SD\"]=3"
   ]
  },
  {
   "cell_type": "code",
   "execution_count": 8,
   "id": "d1fbc26e-34d9-497b-96a8-d76a36378409",
   "metadata": {
    "tags": []
   },
   "outputs": [],
   "source": [
    "data_all = pd.concat([data,data2],ignore_index=True)"
   ]
  },
  {
   "cell_type": "code",
   "execution_count": 9,
   "id": "325f4058-ff3e-422f-a4ba-ecd7d718e70c",
   "metadata": {
    "tags": []
   },
   "outputs": [
    {
     "data": {
      "text/html": [
       "<div>\n",
       "<style scoped>\n",
       "    .dataframe tbody tr th:only-of-type {\n",
       "        vertical-align: middle;\n",
       "    }\n",
       "\n",
       "    .dataframe tbody tr th {\n",
       "        vertical-align: top;\n",
       "    }\n",
       "\n",
       "    .dataframe thead th {\n",
       "        text-align: right;\n",
       "    }\n",
       "</style>\n",
       "<table border=\"1\" class=\"dataframe\">\n",
       "  <thead>\n",
       "    <tr style=\"text-align: right;\">\n",
       "      <th></th>\n",
       "      <th>error_rate</th>\n",
       "      <th>dataset</th>\n",
       "      <th>algorithm</th>\n",
       "      <th>seed</th>\n",
       "      <th>label</th>\n",
       "      <th>task</th>\n",
       "      <th>SD</th>\n",
       "    </tr>\n",
       "  </thead>\n",
       "  <tbody>\n",
       "    <tr>\n",
       "      <th>0</th>\n",
       "      <td>31.632997</td>\n",
       "      <td>fsdnoisy</td>\n",
       "      <td>vat</td>\n",
       "      <td>854</td>\n",
       "      <td>large</td>\n",
       "      <td>usb_audio</td>\n",
       "      <td>0</td>\n",
       "    </tr>\n",
       "    <tr>\n",
       "      <th>1</th>\n",
       "      <td>61.176593</td>\n",
       "      <td>esc50</td>\n",
       "      <td>pimodel</td>\n",
       "      <td>454</td>\n",
       "      <td>small</td>\n",
       "      <td>usb_audio</td>\n",
       "      <td>0</td>\n",
       "    </tr>\n",
       "    <tr>\n",
       "      <th>2</th>\n",
       "      <td>28.596725</td>\n",
       "      <td>urbansound8k</td>\n",
       "      <td>uda</td>\n",
       "      <td>252</td>\n",
       "      <td>small</td>\n",
       "      <td>usb_audio</td>\n",
       "      <td>0</td>\n",
       "    </tr>\n",
       "    <tr>\n",
       "      <th>3</th>\n",
       "      <td>65.287927</td>\n",
       "      <td>yelp_review</td>\n",
       "      <td>mixmatch</td>\n",
       "      <td>817</td>\n",
       "      <td>large</td>\n",
       "      <td>usb_nlp</td>\n",
       "      <td>0</td>\n",
       "    </tr>\n",
       "    <tr>\n",
       "      <th>4</th>\n",
       "      <td>2.597700</td>\n",
       "      <td>aclimdb</td>\n",
       "      <td>flexmatch</td>\n",
       "      <td>275</td>\n",
       "      <td>large</td>\n",
       "      <td>usb_nlp</td>\n",
       "      <td>0</td>\n",
       "    </tr>\n",
       "    <tr>\n",
       "      <th>...</th>\n",
       "      <td>...</td>\n",
       "      <td>...</td>\n",
       "      <td>...</td>\n",
       "      <td>...</td>\n",
       "      <td>...</td>\n",
       "      <td>...</td>\n",
       "      <td>...</td>\n",
       "    </tr>\n",
       "    <tr>\n",
       "      <th>1102355</th>\n",
       "      <td>30.905623</td>\n",
       "      <td>tissuemnist</td>\n",
       "      <td>uda</td>\n",
       "      <td>220</td>\n",
       "      <td>small</td>\n",
       "      <td>usb_cv</td>\n",
       "      <td>3</td>\n",
       "    </tr>\n",
       "    <tr>\n",
       "      <th>1102356</th>\n",
       "      <td>23.232250</td>\n",
       "      <td>gtzan</td>\n",
       "      <td>fixmatch</td>\n",
       "      <td>929</td>\n",
       "      <td>small</td>\n",
       "      <td>usb_nlp</td>\n",
       "      <td>3</td>\n",
       "    </tr>\n",
       "    <tr>\n",
       "      <th>1102357</th>\n",
       "      <td>29.936449</td>\n",
       "      <td>stl</td>\n",
       "      <td>comatch</td>\n",
       "      <td>137</td>\n",
       "      <td>small</td>\n",
       "      <td>usb_cv</td>\n",
       "      <td>3</td>\n",
       "    </tr>\n",
       "    <tr>\n",
       "      <th>1102358</th>\n",
       "      <td>27.514916</td>\n",
       "      <td>eurosat</td>\n",
       "      <td>uda</td>\n",
       "      <td>104</td>\n",
       "      <td>small</td>\n",
       "      <td>usb_cv</td>\n",
       "      <td>3</td>\n",
       "    </tr>\n",
       "    <tr>\n",
       "      <th>1102359</th>\n",
       "      <td>32.631560</td>\n",
       "      <td>urbansound8k</td>\n",
       "      <td>supervised</td>\n",
       "      <td>992</td>\n",
       "      <td>large</td>\n",
       "      <td>usb_audio</td>\n",
       "      <td>3</td>\n",
       "    </tr>\n",
       "  </tbody>\n",
       "</table>\n",
       "<p>1102360 rows × 7 columns</p>\n",
       "</div>"
      ],
      "text/plain": [
       "         error_rate       dataset   algorithm  seed  label       task  SD\n",
       "0         31.632997      fsdnoisy         vat   854  large  usb_audio   0\n",
       "1         61.176593         esc50     pimodel   454  small  usb_audio   0\n",
       "2         28.596725  urbansound8k         uda   252  small  usb_audio   0\n",
       "3         65.287927   yelp_review    mixmatch   817  large    usb_nlp   0\n",
       "4          2.597700       aclimdb   flexmatch   275  large    usb_nlp   0\n",
       "...             ...           ...         ...   ...    ...        ...  ..\n",
       "1102355   30.905623   tissuemnist         uda   220  small     usb_cv   3\n",
       "1102356   23.232250         gtzan    fixmatch   929  small    usb_nlp   3\n",
       "1102357   29.936449           stl     comatch   137  small     usb_cv   3\n",
       "1102358   27.514916       eurosat         uda   104  small     usb_cv   3\n",
       "1102359   32.631560  urbansound8k  supervised   992  large  usb_audio   3\n",
       "\n",
       "[1102360 rows x 7 columns]"
      ]
     },
     "execution_count": 9,
     "metadata": {},
     "output_type": "execute_result"
    }
   ],
   "source": [
    "data_all"
   ]
  },
  {
   "cell_type": "code",
   "execution_count": 10,
   "id": "0a1db13b-d13c-4d14-9178-f3980e310fe0",
   "metadata": {
    "tags": []
   },
   "outputs": [],
   "source": [
    "data_all.to_csv(\"results/combined_csv_SD.csv\")"
   ]
  },
  {
   "cell_type": "code",
   "execution_count": 11,
   "id": "ad120c65-b05a-450e-bb1c-76190c5bac9a",
   "metadata": {},
   "outputs": [
    {
     "data": {
      "text/plain": [
       "1102360"
      ]
     },
     "execution_count": 11,
     "metadata": {},
     "output_type": "execute_result"
    }
   ],
   "source": [
    "len(data_all)"
   ]
  },
  {
   "cell_type": "code",
   "execution_count": 12,
   "id": "5ec412b5-dbec-49c4-8734-bf0fbf813471",
   "metadata": {
    "tags": []
   },
   "outputs": [
    {
     "data": {
      "text/plain": [
       "1102360"
      ]
     },
     "execution_count": 12,
     "metadata": {},
     "output_type": "execute_result"
    }
   ],
   "source": [
    "len(data_all[\"label\"]==\"small\")"
   ]
  },
  {
   "cell_type": "code",
   "execution_count": null,
   "id": "c6003fef-ecaf-41f7-a6a4-0f3e0d625e8b",
   "metadata": {},
   "outputs": [],
   "source": []
  }
 ],
 "metadata": {
  "kernelspec": {
   "display_name": "Python 3 (ipykernel)",
   "language": "python",
   "name": "python3"
  },
  "language_info": {
   "codemirror_mode": {
    "name": "ipython",
    "version": 3
   },
   "file_extension": ".py",
   "mimetype": "text/x-python",
   "name": "python",
   "nbconvert_exporter": "python",
   "pygments_lexer": "ipython3",
   "version": "3.8.17"
  }
 },
 "nbformat": 4,
 "nbformat_minor": 5
}
