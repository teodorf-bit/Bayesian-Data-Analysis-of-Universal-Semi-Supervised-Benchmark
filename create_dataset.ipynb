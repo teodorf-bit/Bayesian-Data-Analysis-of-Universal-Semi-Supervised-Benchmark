{
 "cells": [
  {
   "cell_type": "code",
   "execution_count": 1,
   "id": "0de5ce8f-081d-42fb-aaee-fa0381045a15",
   "metadata": {
    "tags": []
   },
   "outputs": [],
   "source": [
    "import os       \n",
    "import glob\n",
    "import pandas as pd"
   ]
  },
  {
   "cell_type": "code",
   "execution_count": 2,
   "id": "85d85b44-0816-477b-b578-81dff2dc3ee9",
   "metadata": {
    "tags": []
   },
   "outputs": [],
   "source": [
    "os.chdir('/home/teodor/Desktop/research/USB/simulations')"
   ]
  },
  {
   "cell_type": "code",
   "execution_count": 3,
   "id": "65b077b0-cd43-4602-8443-8ea17160c9c0",
   "metadata": {
    "tags": []
   },
   "outputs": [],
   "source": [
    "extension = 'csv'\n",
    "all_filenames = [i for i in glob.glob('*.{}'.format(extension))]"
   ]
  },
  {
   "cell_type": "code",
   "execution_count": 4,
   "id": "c66306ad-7397-49b6-9793-fc4d0188923f",
   "metadata": {
    "tags": []
   },
   "outputs": [],
   "source": [
    "#combine all files in the list\n",
    "combined_csv = pd.concat([pd.read_csv(f) for f in all_filenames ])\n",
    "#export to csv\n",
    "os.chdir('/home/teodor/Desktop/research/USB/results')\n",
    "combined_csv.to_csv(\"combined_csv.csv\", index=False, encoding='utf-8-sig')"
   ]
  },
  {
   "cell_type": "code",
   "execution_count": 5,
   "id": "a83e5138-523d-48d9-8e14-197f87d75ba8",
   "metadata": {
    "tags": []
   },
   "outputs": [
    {
     "data": {
      "text/html": [
       "<div>\n",
       "<style scoped>\n",
       "    .dataframe tbody tr th:only-of-type {\n",
       "        vertical-align: middle;\n",
       "    }\n",
       "\n",
       "    .dataframe tbody tr th {\n",
       "        vertical-align: top;\n",
       "    }\n",
       "\n",
       "    .dataframe thead th {\n",
       "        text-align: right;\n",
       "    }\n",
       "</style>\n",
       "<table border=\"1\" class=\"dataframe\">\n",
       "  <thead>\n",
       "    <tr style=\"text-align: right;\">\n",
       "      <th></th>\n",
       "      <th>error_rate</th>\n",
       "      <th>dataset</th>\n",
       "      <th>algorithm</th>\n",
       "      <th>seed</th>\n",
       "      <th>label</th>\n",
       "      <th>task</th>\n",
       "    </tr>\n",
       "  </thead>\n",
       "  <tbody>\n",
       "    <tr>\n",
       "      <th>0</th>\n",
       "      <td>31.632997</td>\n",
       "      <td>fsdnoisy</td>\n",
       "      <td>vat</td>\n",
       "      <td>854</td>\n",
       "      <td>large</td>\n",
       "      <td>usb_audio</td>\n",
       "    </tr>\n",
       "    <tr>\n",
       "      <th>0</th>\n",
       "      <td>61.176593</td>\n",
       "      <td>esc50</td>\n",
       "      <td>pimodel</td>\n",
       "      <td>454</td>\n",
       "      <td>small</td>\n",
       "      <td>usb_audio</td>\n",
       "    </tr>\n",
       "    <tr>\n",
       "      <th>0</th>\n",
       "      <td>28.596725</td>\n",
       "      <td>urbansound8k</td>\n",
       "      <td>uda</td>\n",
       "      <td>252</td>\n",
       "      <td>small</td>\n",
       "      <td>usb_audio</td>\n",
       "    </tr>\n",
       "    <tr>\n",
       "      <th>0</th>\n",
       "      <td>65.287927</td>\n",
       "      <td>yelp_review</td>\n",
       "      <td>mixmatch</td>\n",
       "      <td>817</td>\n",
       "      <td>large</td>\n",
       "      <td>usb_nlp</td>\n",
       "    </tr>\n",
       "    <tr>\n",
       "      <th>0</th>\n",
       "      <td>2.597700</td>\n",
       "      <td>aclimdb</td>\n",
       "      <td>flexmatch</td>\n",
       "      <td>275</td>\n",
       "      <td>large</td>\n",
       "      <td>usb_nlp</td>\n",
       "    </tr>\n",
       "    <tr>\n",
       "      <th>...</th>\n",
       "      <td>...</td>\n",
       "      <td>...</td>\n",
       "      <td>...</td>\n",
       "      <td>...</td>\n",
       "      <td>...</td>\n",
       "      <td>...</td>\n",
       "    </tr>\n",
       "    <tr>\n",
       "      <th>0</th>\n",
       "      <td>30.770213</td>\n",
       "      <td>tissuemnist</td>\n",
       "      <td>uda</td>\n",
       "      <td>220</td>\n",
       "      <td>small</td>\n",
       "      <td>usb_cv</td>\n",
       "    </tr>\n",
       "    <tr>\n",
       "      <th>0</th>\n",
       "      <td>19.590050</td>\n",
       "      <td>gtzan</td>\n",
       "      <td>fixmatch</td>\n",
       "      <td>929</td>\n",
       "      <td>small</td>\n",
       "      <td>usb_nlp</td>\n",
       "    </tr>\n",
       "    <tr>\n",
       "      <th>0</th>\n",
       "      <td>31.035772</td>\n",
       "      <td>stl</td>\n",
       "      <td>comatch</td>\n",
       "      <td>137</td>\n",
       "      <td>small</td>\n",
       "      <td>usb_cv</td>\n",
       "    </tr>\n",
       "    <tr>\n",
       "      <th>0</th>\n",
       "      <td>29.036850</td>\n",
       "      <td>eurosat</td>\n",
       "      <td>uda</td>\n",
       "      <td>104</td>\n",
       "      <td>small</td>\n",
       "      <td>usb_cv</td>\n",
       "    </tr>\n",
       "    <tr>\n",
       "      <th>0</th>\n",
       "      <td>33.671785</td>\n",
       "      <td>urbansound8k</td>\n",
       "      <td>supervised</td>\n",
       "      <td>992</td>\n",
       "      <td>large</td>\n",
       "      <td>usb_audio</td>\n",
       "    </tr>\n",
       "  </tbody>\n",
       "</table>\n",
       "<p>551180 rows × 6 columns</p>\n",
       "</div>"
      ],
      "text/plain": [
       "    error_rate       dataset   algorithm  seed  label       task\n",
       "0    31.632997      fsdnoisy         vat   854  large  usb_audio\n",
       "0    61.176593         esc50     pimodel   454  small  usb_audio\n",
       "0    28.596725  urbansound8k         uda   252  small  usb_audio\n",
       "0    65.287927   yelp_review    mixmatch   817  large    usb_nlp\n",
       "0     2.597700       aclimdb   flexmatch   275  large    usb_nlp\n",
       "..         ...           ...         ...   ...    ...        ...\n",
       "0    30.770213   tissuemnist         uda   220  small     usb_cv\n",
       "0    19.590050         gtzan    fixmatch   929  small    usb_nlp\n",
       "0    31.035772           stl     comatch   137  small     usb_cv\n",
       "0    29.036850       eurosat         uda   104  small     usb_cv\n",
       "0    33.671785  urbansound8k  supervised   992  large  usb_audio\n",
       "\n",
       "[551180 rows x 6 columns]"
      ]
     },
     "execution_count": 5,
     "metadata": {},
     "output_type": "execute_result"
    }
   ],
   "source": [
    "combined_csv"
   ]
  },
  {
   "cell_type": "code",
   "execution_count": null,
   "id": "e0d2909c-3998-441c-bd82-acfd39054a2b",
   "metadata": {},
   "outputs": [],
   "source": []
  }
 ],
 "metadata": {
  "kernelspec": {
   "display_name": "Python 3 (ipykernel)",
   "language": "python",
   "name": "python3"
  },
  "language_info": {
   "codemirror_mode": {
    "name": "ipython",
    "version": 3
   },
   "file_extension": ".py",
   "mimetype": "text/x-python",
   "name": "python",
   "nbconvert_exporter": "python",
   "pygments_lexer": "ipython3",
   "version": "3.8.17"
  }
 },
 "nbformat": 4,
 "nbformat_minor": 5
}
